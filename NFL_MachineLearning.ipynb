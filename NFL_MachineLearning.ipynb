{
 "cells": [
  {
   "cell_type": "code",
   "execution_count": null,
   "id": "967ab1b6",
   "metadata": {},
   "outputs": [],
   "source": [
    "# Initial imports\n",
    "import numpy as np\n",
    "import pandas as pd\n",
    "from pathlib import Path\n",
    "from collections import Counter\n",
    "from sklearn.metrics import balanced_accuracy_score\n",
    "from sklearn.metrics import confusion_matrix\n",
    "from imblearn.metrics import classification_report_imbalanced"
   ]
  },
  {
   "cell_type": "code",
   "execution_count": null,
   "id": "118a9a9b",
   "metadata": {},
   "outputs": [],
   "source": [
    "# Load the dataset.\n",
    "#file_path = ('cleaned_offense.csv')\n",
    "#df = pd.read_csv(file_path)"
   ]
  },
  {
   "cell_type": "code",
   "execution_count": null,
   "id": "4b28efbc",
   "metadata": {},
   "outputs": [],
   "source": [
    "# Remove rows that have at least 1 null value.\n",
    "#df = df.dropna()\n",
    "#df"
   ]
  },
  {
   "cell_type": "code",
   "execution_count": null,
   "id": "c513ebfc",
   "metadata": {},
   "outputs": [],
   "source": [
    "# Drop columns that are not going to be used\n",
    "#df = df.drop(['ColumnName'], axis = 1)\n",
    "#df"
   ]
  },
  {
   "cell_type": "code",
   "execution_count": null,
   "id": "f58d73c9",
   "metadata": {},
   "outputs": [],
   "source": [
    "# Define the features set.\n",
    "#X = df.copy()\n",
    "#X = X.drop(\"target_column\", axis=1)\n",
    "#X.head()"
   ]
  },
  {
   "cell_type": "code",
   "execution_count": null,
   "id": "202d412a",
   "metadata": {},
   "outputs": [],
   "source": [
    "# Define the target set.\n",
    "#y = df[\"target_column\"].values"
   ]
  },
  {
   "cell_type": "code",
   "execution_count": null,
   "id": "02fa6a1a",
   "metadata": {},
   "outputs": [],
   "source": [
    "# Check the balance of our target values to make sure we are on the right track\n",
    "#y.value_counts()"
   ]
  },
  {
   "cell_type": "code",
   "execution_count": null,
   "id": "35805933",
   "metadata": {},
   "outputs": [],
   "source": [
    "#from sklearn.model_selection import train_test_split\n",
    "#X_train, X_test, y_train, y_test = train_test_split(X, y, random_state=1, stratify=y)\n",
    "\n",
    "#print(Counter(y_train))\n",
    "#print(Counter(y_test))"
   ]
  },
  {
   "cell_type": "code",
   "execution_count": null,
   "id": "409a658f",
   "metadata": {},
   "outputs": [],
   "source": [
    "# Creating a StandardScaler instance.\n",
    "#scaler = StandardScaler()\n",
    "# Fitting the Standard Scaler with the training data.\n",
    "#X_scaler = scaler.fit(X_train)\n",
    "\n",
    "# Scaling the data.\n",
    "#X_train_scaled = X_scaler.transform(X_train)\n",
    "#X_test_scaled = X_scaler.transform(X_test)"
   ]
  },
  {
   "cell_type": "code",
   "execution_count": null,
   "id": "45b1d88c",
   "metadata": {},
   "outputs": [],
   "source": [
    "# Creating the decision tree classifier instance.\n",
    "#model = tree.DecisionTreeClassifier()\n",
    "# Fitting the model.\n",
    "#model = model.fit(X_train_scaled, y_train)"
   ]
  },
  {
   "cell_type": "code",
   "execution_count": null,
   "id": "9b9b11ef",
   "metadata": {},
   "outputs": [],
   "source": [
    "# Making predictions using the testing data.\n",
    "#predictions = model.predict(X_test_scaled)\n",
    "#predictions"
   ]
  },
  {
   "cell_type": "code",
   "execution_count": null,
   "id": "848707fd",
   "metadata": {},
   "outputs": [],
   "source": [
    "# Evaluate the model\n",
    "# Calculating the confusion matrix\n",
    "#cm = confusion_matrix(y_test, predictions)\n",
    "\n",
    "# Create a DataFrame from the confusion matrix.\n",
    "#cm_df = pd.DataFrame(\n",
    "#    cm, index=[\"Actual 0\", \"Actual 1\"], columns=[\"Predicted 0\", \"Predicted 1\"])\n",
    "\n",
    "#cm_df"
   ]
  },
  {
   "cell_type": "code",
   "execution_count": null,
   "id": "522e999b",
   "metadata": {},
   "outputs": [],
   "source": [
    "# Calculating the accuracy score.\n",
    "#acc_score = accuracy_score(y_test, predictions)"
   ]
  },
  {
   "cell_type": "code",
   "execution_count": null,
   "id": "3928b54d",
   "metadata": {},
   "outputs": [],
   "source": [
    "# Displaying results\n",
    "#print(\"Confusion Matrix\")\n",
    "#display(cm_df)\n",
    "#print(f\"Accuracy Score : {acc_score}\")\n",
    "#print(\"Classification Report\")\n",
    "#print(classification_report(y_test, predictions))"
   ]
  },
  {
   "cell_type": "code",
   "execution_count": null,
   "id": "42c8a5e9",
   "metadata": {},
   "outputs": [],
   "source": [
    "#Based on the results of the mockup decision tree model, decide whether the results are adequate or if we need to use \n",
    "#a different model (random forest 17.8.3, random under/over sampling 17.10.1 )"
   ]
  }
 ],
 "metadata": {
  "kernelspec": {
   "display_name": "mlenv",
   "language": "python",
   "name": "mlenv"
  },
  "language_info": {
   "codemirror_mode": {
    "name": "ipython",
    "version": 3
   },
   "file_extension": ".py",
   "mimetype": "text/x-python",
   "name": "python",
   "nbconvert_exporter": "python",
   "pygments_lexer": "ipython3",
   "version": "3.7.13"
  }
 },
 "nbformat": 4,
 "nbformat_minor": 5
}
